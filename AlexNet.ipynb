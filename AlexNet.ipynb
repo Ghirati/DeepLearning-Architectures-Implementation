{
  "nbformat": 4,
  "nbformat_minor": 0,
  "metadata": {
    "colab": {
      "provenance": []
    },
    "kernelspec": {
      "name": "python3",
      "display_name": "Python 3"
    },
    "language_info": {
      "name": "python"
    }
  },
  "cells": [
    {
      "cell_type": "code",
      "execution_count": 1,
      "metadata": {
        "id": "vJX2D5MIgar3"
      },
      "outputs": [],
      "source": [
        "import torch\n",
        "import torch.nn as nn\n",
        "import torch.nn.functional as F"
      ]
    },
    {
      "cell_type": "code",
      "source": [
        "class AlexNet(nn.Module):\n",
        "    def __init__(self, input_channel=3, num_classes=10):\n",
        "        super().__init__()\n",
        "        self.conv1 = nn.Conv2d(input_channel, 96, kernel_size=11, stride=4, padding=2)\n",
        "        self.conv2 = nn.Conv2d(96, 256, kernel_size=5, stride=1, padding=2)\n",
        "        self.conv3 = nn.Conv2d(256, 384, kernel_size=3, stride=1, padding=1)\n",
        "        self.conv4 = nn.Conv2d(384, 384, kernel_size=3, stride=1, padding=1)\n",
        "        self.conv5 = nn.Conv2d(384, 256, kernel_size=3, stride=1, padding=1)\n",
        "        self.fc1 = nn.Linear(256*6*6, 4096)\n",
        "        self.fc2 = nn.Linear(4096, 4096)\n",
        "        self.fc3 = nn.Linear(4096, num_classes)\n",
        "\n",
        "    def forward(self, x):\n",
        "        # N x 3 x 224 x 224\n",
        "        x = F.max_pool2d(F.relu(self.conv1(x)), 3, stride=2)\n",
        "        # N x 96 x 27 x 27\n",
        "        x = F.max_pool2d(F.relu(self.conv2(x)), 3, stride=2)\n",
        "        # N x 256 x 13 x 13\n",
        "        x = F.relu(self.conv3(x))\n",
        "        # N x 384 x 13 x 13\n",
        "        x = F.relu(self.conv4(x))\n",
        "        # N x 384 x 13 x 13\n",
        "        x = F.max_pool2d(F.relu(self.conv5(x)), 3, stride=2)\n",
        "        # N x 256 x 6 x 6\n",
        "        x = x.view(-1, 256*6*6)\n",
        "        x = F.dropout(F.relu(self.fc1(x)), 0.5)\n",
        "        x = F.dropout(F.relu(self.fc2(x)), 0.5)\n",
        "        x = self.fc3(x)\n",
        "        return x"
      ],
      "metadata": {
        "id": "DYQ79D0ZjZNo"
      },
      "execution_count": 2,
      "outputs": []
    },
    {
      "cell_type": "code",
      "source": [
        "x = torch.randn(1, 3, 224, 224)\n",
        "model = AlexNet()\n",
        "model(x)"
      ],
      "metadata": {
        "colab": {
          "base_uri": "https://localhost:8080/"
        },
        "id": "hUjQYtQijbqk",
        "outputId": "8fb29278-9dfd-42f6-f723-1b32579e47a7"
      },
      "execution_count": 4,
      "outputs": [
        {
          "output_type": "execute_result",
          "data": {
            "text/plain": [
              "tensor([[-0.0002, -0.0008,  0.0169, -0.0022,  0.0059,  0.0006, -0.0050,  0.0282,\n",
              "          0.0069,  0.0053]], grad_fn=<AddmmBackward0>)"
            ]
          },
          "metadata": {},
          "execution_count": 4
        }
      ]
    }
  ]
}