{
  "nbformat": 4,
  "nbformat_minor": 0,
  "metadata": {
    "colab": {
      "provenance": []
    },
    "kernelspec": {
      "name": "python3",
      "display_name": "Python 3"
    },
    "language_info": {
      "name": "python"
    }
  },
  "cells": [
    {
      "cell_type": "code",
      "execution_count": 1,
      "metadata": {
        "id": "vJX2D5MIgar3"
      },
      "outputs": [],
      "source": [
        "import torch\n",
        "import torch.nn as nn\n",
        "import torch.nn.functional as F"
      ]
    },
    {
      "cell_type": "code",
      "source": [
        "class LeNet5(nn.Module):\n",
        "    def __init__(self, input_channel=3, num_classes=10):\n",
        "        super().__init__()\n",
        "        self.conv1 = nn.Conv2d(input_channel, 5, kernel_size=5, stride=1, padding=2)\n",
        "        self.conv2 = nn.Conv2d(5, 16, kernel_size=5, stride=1, padding=0)\n",
        "        self.fc1 = nn.Linear(16*54*54, 120)\n",
        "        self.fc2 = nn.Linear(120, 84)\n",
        "        self.fc3 = nn.Linear(84, num_classes)\n",
        "\n",
        "    def forward(self, x):\n",
        "        # N x 3 x 224 x 224\n",
        "        x = F.max_pool2d(F.relu(self.conv1(x)), 2)\n",
        "        # N x 5 x 112 x 112\n",
        "        x = F.max_pool2d(F.relu(self.conv2(x)), 2)\n",
        "        # N x 16 x 54 x 54\n",
        "        x = x.view(-1, 16*54*54)\n",
        "        x = F.relu(self.fc1(x))\n",
        "        x = F.relu(self.fc2(x))\n",
        "        x = self.fc3(x)\n",
        "        return x"
      ],
      "metadata": {
        "id": "DYQ79D0ZjZNo"
      },
      "execution_count": 2,
      "outputs": []
    },
    {
      "cell_type": "code",
      "source": [
        "x = torch.randn(1, 3, 224, 224)\n",
        "model = LeNet5()\n",
        "model(x)"
      ],
      "metadata": {
        "colab": {
          "base_uri": "https://localhost:8080/"
        },
        "id": "hUjQYtQijbqk",
        "outputId": "cbffd74e-82d3-4d43-d5e2-f513f1a847ef"
      },
      "execution_count": 3,
      "outputs": [
        {
          "output_type": "execute_result",
          "data": {
            "text/plain": [
              "tensor([[-0.0708, -0.1432, -0.0354,  0.0813, -0.1221, -0.0262, -0.1383,  0.0533,\n",
              "         -0.0662,  0.1137]], grad_fn=<AddmmBackward0>)"
            ]
          },
          "metadata": {},
          "execution_count": 3
        }
      ]
    }
  ]
}