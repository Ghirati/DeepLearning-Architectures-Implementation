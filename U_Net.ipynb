{
  "nbformat": 4,
  "nbformat_minor": 0,
  "metadata": {
    "colab": {
      "provenance": []
    },
    "kernelspec": {
      "name": "python3",
      "display_name": "Python 3"
    },
    "language_info": {
      "name": "python"
    }
  },
  "cells": [
    {
      "cell_type": "code",
      "execution_count": 10,
      "metadata": {
        "id": "vJX2D5MIgar3"
      },
      "outputs": [],
      "source": [
        "import torch\n",
        "import torch.nn as nn"
      ]
    },
    {
      "cell_type": "code",
      "source": [
        "class DoubleConv(nn.Module):\n",
        "    def __init__(self, in_channels, out_channels):\n",
        "        super().__init__()\n",
        "        self.conv = nn.Sequential(\n",
        "            nn.Conv2d(in_channels, out_channels, kernel_size=3, stride=1, padding=1),\n",
        "            nn.ReLU(inplace=True),\n",
        "            nn.Conv2d(out_channels, out_channels, kernel_size=3, stride=1, padding=1),\n",
        "            nn.ReLU(inplace=True),\n",
        "        )\n",
        "\n",
        "    def forward(self, x):\n",
        "        return self.conv(x)"
      ],
      "metadata": {
        "id": "RiM2VURRgolX"
      },
      "execution_count": 11,
      "outputs": []
    },
    {
      "cell_type": "code",
      "source": [
        "class DownSample(nn.Module):\n",
        "    def __init__(self, in_channels, out_channels):\n",
        "        super().__init__()\n",
        "        self.conv = DoubleConv(in_channels, out_channels)\n",
        "        self.pool = nn.MaxPool2d(2)\n",
        "\n",
        "    def forward(self, x):\n",
        "        down = self.conv(x)\n",
        "        p =  self.pool(down)\n",
        "        return down, p"
      ],
      "metadata": {
        "id": "xzCWVZxwgqLb"
      },
      "execution_count": 12,
      "outputs": []
    },
    {
      "cell_type": "code",
      "source": [
        "class UpSample(nn.Module):\n",
        "    def __init__(self, in_channels, out_channels):\n",
        "        super().__init__()\n",
        "        self.up = nn.ConvTranspose2d(in_channels, in_channels//2, kernel_size=2, stride=2)\n",
        "        self.conv = DoubleConv(in_channels, out_channels)\n",
        "\n",
        "    def forward(self, x1, x2):\n",
        "        x1 = self.up(x1)\n",
        "        x = torch.cat([x1, x2], 1)\n",
        "        return self.conv(x)"
      ],
      "metadata": {
        "id": "sCqBKRkfgrhI"
      },
      "execution_count": 13,
      "outputs": []
    },
    {
      "cell_type": "code",
      "source": [
        "class UNet(nn.Module):\n",
        "    def __init__(self, in_channels, num_classes):\n",
        "        super().__init__()\n",
        "        self.downsample1 = DownSample(in_channels, 64)\n",
        "        self.downsample2 = DownSample(64, 128)\n",
        "        self.downsample3 = DownSample(128, 256)\n",
        "        self.downsample4 = DownSample(256, 512)\n",
        "\n",
        "        self.bottleneck = DoubleConv(512, 1024)\n",
        "\n",
        "        self.upsample1 = UpSample(1024, 512)\n",
        "        self.upsample2 = UpSample(512, 256)\n",
        "        self.upsample3 = UpSample(256, 128)\n",
        "        self.upsample4 = UpSample(128, 64)\n",
        "\n",
        "        self.out = nn.Conv2d(64, num_classes, kernel_size=1)\n",
        "\n",
        "    def forward(self, x):\n",
        "        down1, p1 = self.downsample1(x)\n",
        "        down2, p2 = self.downsample2(p1)\n",
        "        down3, p3 = self.downsample3(p2)\n",
        "        down4, p4 = self.downsample4(p3)\n",
        "\n",
        "        b = self.bottleneck(p4)\n",
        "\n",
        "        up1 = self.upsample1(b, down4)\n",
        "        up2 = self.upsample2(up1, down3)\n",
        "        up3 = self.upsample3(up2, down2)\n",
        "        up4 = self.upsample4(up3, down1)\n",
        "\n",
        "        out = self.out(up4)\n",
        "        return out"
      ],
      "metadata": {
        "id": "Kb5O9Np6gvCe"
      },
      "execution_count": 14,
      "outputs": []
    },
    {
      "cell_type": "code",
      "source": [
        "input_image = torch.rand((1, 3, 512, 512))\n",
        "model = UNet(3, 10)\n",
        "model(input_image).shape"
      ],
      "metadata": {
        "colab": {
          "base_uri": "https://localhost:8080/"
        },
        "id": "czesWy-1gw9c",
        "outputId": "8991848b-e519-4a70-8571-bd95bb30da5c"
      },
      "execution_count": 15,
      "outputs": [
        {
          "output_type": "execute_result",
          "data": {
            "text/plain": [
              "torch.Size([1, 10, 512, 512])"
            ]
          },
          "metadata": {},
          "execution_count": 15
        }
      ]
    }
  ]
}