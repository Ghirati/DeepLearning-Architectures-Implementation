{
  "nbformat": 4,
  "nbformat_minor": 0,
  "metadata": {
    "colab": {
      "provenance": []
    },
    "kernelspec": {
      "name": "python3",
      "display_name": "Python 3"
    },
    "language_info": {
      "name": "python"
    }
  },
  "cells": [
    {
      "cell_type": "code",
      "execution_count": 1,
      "metadata": {
        "id": "vJX2D5MIgar3"
      },
      "outputs": [],
      "source": [
        "import torch\n",
        "import torch.nn as nn\n",
        "import torch.nn.functional as F"
      ]
    },
    {
      "cell_type": "code",
      "source": [
        "class ResUnit(nn.Module):\n",
        "    def __init__(self, input_channel:int, output_channel:int, bot_layer: bool=False):\n",
        "        super().__init__()\n",
        "        self.bot_layer = bot_layer\n",
        "        self.conv1 = nn.Sequential(\n",
        "            nn.Conv2d(input_channel, output_channel, kernel_size=3, stride=2 if bot_layer else 1, padding=1),\n",
        "            nn.BatchNorm2d(output_channel),\n",
        "            nn.ReLU(inplace=True),\n",
        "        )\n",
        "        self.conv2 = nn.Sequential(\n",
        "            nn.Conv2d(output_channel, output_channel, kernel_size=3, stride=1, padding=1),\n",
        "            nn.BatchNorm2d(output_channel),\n",
        "        )\n",
        "        self.conv3 = nn.Sequential(\n",
        "            nn.Conv2d(input_channel, output_channel, kernel_size=1, stride=2, padding=0),\n",
        "            nn.BatchNorm2d(output_channel),\n",
        "        )\n",
        "\n",
        "    def forward(self, x):\n",
        "        out = self.conv1(x)\n",
        "        out = self.conv2(out)\n",
        "        if self.bot_layer:\n",
        "            x = self.conv3(x)\n",
        "\n",
        "        out = F.relu(out + x)\n",
        "        return out"
      ],
      "metadata": {
        "id": "DYQ79D0ZjZNo"
      },
      "execution_count": 2,
      "outputs": []
    },
    {
      "cell_type": "code",
      "source": [
        "class ResNet34(nn.Module):\n",
        "    def __init__(self, input_channel=3, num_classes=10):\n",
        "        super().__init__()\n",
        "        self.input_block = nn.Sequential(\n",
        "            nn.Conv2d(input_channel, 64, kernel_size=7, stride=2, padding=3),\n",
        "            nn.BatchNorm2d(64),\n",
        "            nn.ReLU(inplace=True),\n",
        "            nn.MaxPool2d(kernel_size=3, stride=2, padding=1),\n",
        "        )\n",
        "\n",
        "        self.res_block = nn.ModuleList()\n",
        "        blocks = [3*[64], 4*[128], 6*[256], 3*[512]]\n",
        "\n",
        "        for index, block in enumerate(blocks):\n",
        "            module = []\n",
        "            if index == 0:\n",
        "                for i in block:\n",
        "                    module.append(ResUnit(i, i))\n",
        "                module = nn.Sequential(*module)\n",
        "            else:\n",
        "                module.append(ResUnit(block[0]//2, block[0], bot_layer=True))\n",
        "                for i in block[1:]:\n",
        "                    module.append(ResUnit(i, i))\n",
        "                module = nn.Sequential(*module)\n",
        "            self.res_block.append(module)\n",
        "\n",
        "        self.classifier = nn.Sequential(\n",
        "            nn.AdaptiveAvgPool2d((2,1)),\n",
        "            nn.Flatten(),\n",
        "            nn.Linear(1024, num_classes)\n",
        "        )\n",
        "\n",
        "    def forward(self, x):\n",
        "        x = self.input_block(x)\n",
        "        for module in self.res_block:\n",
        "            x = module(x)\n",
        "        x = self.classifier(x)\n",
        "        return x"
      ],
      "metadata": {
        "id": "qvmudtpml8Hs"
      },
      "execution_count": 3,
      "outputs": []
    },
    {
      "cell_type": "code",
      "source": [
        "x = torch.randn(1, 3, 224, 224)\n",
        "model = ResNet34()\n",
        "model(x)"
      ],
      "metadata": {
        "colab": {
          "base_uri": "https://localhost:8080/"
        },
        "id": "hUjQYtQijbqk",
        "outputId": "6f620622-7b70-4ec1-b04f-d8ebee13ec2e"
      },
      "execution_count": 4,
      "outputs": [
        {
          "output_type": "execute_result",
          "data": {
            "text/plain": [
              "tensor([[ 0.7360, -0.3812, -0.2799,  0.3944,  0.7062, -0.3704,  1.3767,  0.5394,\n",
              "         -0.2246,  0.0983]], grad_fn=<AddmmBackward0>)"
            ]
          },
          "metadata": {},
          "execution_count": 4
        }
      ]
    }
  ]
}