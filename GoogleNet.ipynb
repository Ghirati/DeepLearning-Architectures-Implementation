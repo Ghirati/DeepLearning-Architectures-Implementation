{
  "nbformat": 4,
  "nbformat_minor": 0,
  "metadata": {
    "colab": {
      "provenance": []
    },
    "kernelspec": {
      "name": "python3",
      "display_name": "Python 3"
    },
    "language_info": {
      "name": "python"
    }
  },
  "cells": [
    {
      "cell_type": "code",
      "execution_count": 1,
      "metadata": {
        "id": "vJX2D5MIgar3"
      },
      "outputs": [],
      "source": [
        "import torch\n",
        "import torch.nn as nn\n",
        "import torch.nn.functional as F"
      ]
    },
    {
      "cell_type": "code",
      "source": [
        "class BasicConv(nn.Module):\n",
        "    def __init__(self, input_channel, output_channel, *args, **kwargs):\n",
        "        super().__init__()\n",
        "        self.flow = nn.Sequential(\n",
        "            nn.Conv2d(input_channel, output_channel, *args, **kwargs),\n",
        "            nn.BatchNorm2d(output_channel),\n",
        "            nn.ReLU(inplace=True),\n",
        "        )\n",
        "\n",
        "    def forward(self, x):\n",
        "        x = self.flow(x)\n",
        "        return x"
      ],
      "metadata": {
        "id": "DYQ79D0ZjZNo"
      },
      "execution_count": 2,
      "outputs": []
    },
    {
      "cell_type": "code",
      "source": [
        "class Inception(nn.Module):\n",
        "    def __init__(self, input_channel,\n",
        "                b1_11_ch,\n",
        "                b2_11_ch, b2_33_ch,\n",
        "                b3_11_ch, b3_55_ch,\n",
        "                b4_11_ch):\n",
        "        super().__init__()\n",
        "        self.b1 = BasicConv(input_channel, b1_11_ch, kernel_size=1, stride=1, padding=0)\n",
        "        self.b2 = nn.Sequential(\n",
        "            BasicConv(input_channel, b2_11_ch, kernel_size=1, stride=1, padding=0),\n",
        "            BasicConv(b2_11_ch, b2_33_ch, kernel_size=3, stride=1, padding=1),\n",
        "        )\n",
        "        self.b3 = nn.Sequential(\n",
        "            BasicConv(input_channel, b3_11_ch, kernel_size=1, stride=1, padding=0),\n",
        "            BasicConv(b3_11_ch, b3_55_ch, kernel_size=5, stride=1, padding=2),\n",
        "        )\n",
        "        self.b4 = nn.Sequential(\n",
        "            nn.MaxPool2d(kernel_size=3, stride=1, padding=1),\n",
        "            BasicConv(input_channel, b4_11_ch, kernel_size=1, stride=1, padding=0)\n",
        "        )\n",
        "    def forward(self, x):\n",
        "        b1 = self.b1(x)\n",
        "        b2 = self.b2(x)\n",
        "        b3 = self.b3(x)\n",
        "        b4 = self.b4(x)\n",
        "        x = torch.cat([b1, b2, b3, b4], 1)\n",
        "        return x"
      ],
      "metadata": {
        "id": "qvmudtpml8Hs"
      },
      "execution_count": 3,
      "outputs": []
    },
    {
      "cell_type": "code",
      "source": [
        "# The model includes fewer Inception modules\n",
        "class SimpleGoogleNet(nn.Module):\n",
        "    def __init__(self, input_channel=3, num_classes=10):\n",
        "        super().__init__()\n",
        "        self.conv_flow = nn.Sequential(\n",
        "            BasicConv(input_channel, 64, kernel_size=7, stride=2, padding=3),\n",
        "            nn.MaxPool2d(kernel_size=3, stride=2, padding=1),\n",
        "            BasicConv(64, 64, kernel_size=1, stride=1, padding=0),\n",
        "            BasicConv(64, 192, kernel_size=3, stride=1, padding=1),\n",
        "            nn.MaxPool2d(kernel_size=3, stride=2, padding=1),\n",
        "        )\n",
        "        self.inception = nn.Sequential(\n",
        "            Inception(192, 64, 96, 128, 12, 32, 32),\n",
        "            Inception(256, 384, 192, 384, 48, 128, 128),\n",
        "        )\n",
        "        self.pool = nn.AdaptiveAvgPool2d((1, 1))\n",
        "        self.classifier = nn.Sequential(\n",
        "            nn.Flatten(),\n",
        "            nn.Dropout(0.3),\n",
        "            nn.Linear(1024, num_classes),\n",
        "        )\n",
        "    def forward(self, x):\n",
        "        x = self.conv_flow(x)\n",
        "        x = self.inception(x)\n",
        "        x = self.pool(x)\n",
        "        x = self.classifier(x)\n",
        "        return x"
      ],
      "metadata": {
        "id": "n458uB4TmUTe"
      },
      "execution_count": 4,
      "outputs": []
    },
    {
      "cell_type": "code",
      "source": [
        "x = torch.randn(1, 3, 224, 224)\n",
        "model = SimpleGoogleNet()\n",
        "model(x)"
      ],
      "metadata": {
        "colab": {
          "base_uri": "https://localhost:8080/"
        },
        "id": "hUjQYtQijbqk",
        "outputId": "113a4937-8616-4cc6-88f0-52f21cba285f"
      },
      "execution_count": 6,
      "outputs": [
        {
          "output_type": "execute_result",
          "data": {
            "text/plain": [
              "tensor([[-0.0683, -0.1084, -0.2959,  0.2376,  0.3044, -0.5056,  0.6817, -0.0710,\n",
              "          0.0541,  0.4644]], grad_fn=<AddmmBackward0>)"
            ]
          },
          "metadata": {},
          "execution_count": 6
        }
      ]
    }
  ]
}