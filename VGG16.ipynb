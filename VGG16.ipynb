{
  "nbformat": 4,
  "nbformat_minor": 0,
  "metadata": {
    "colab": {
      "provenance": []
    },
    "kernelspec": {
      "name": "python3",
      "display_name": "Python 3"
    },
    "language_info": {
      "name": "python"
    }
  },
  "cells": [
    {
      "cell_type": "code",
      "execution_count": 1,
      "metadata": {
        "id": "vJX2D5MIgar3"
      },
      "outputs": [],
      "source": [
        "import torch\n",
        "import torch.nn as nn\n",
        "import torch.nn.functional as F"
      ]
    },
    {
      "cell_type": "code",
      "source": [
        "class VGGBlock(nn.Module):\n",
        "    def __init__(self, input_channel, output_channel, num_conv):\n",
        "        super().__init__()\n",
        "        module = []\n",
        "        for _ in range(num_conv):\n",
        "            module.append(nn.Conv2d(input_channel, output_channel, kernel_size=3, stride=1, padding=1))\n",
        "            module.append(nn.ReLU(inplace=True))\n",
        "            input_channel = output_channel\n",
        "\n",
        "        self.conv_block = nn.Sequential(*module)\n",
        "\n",
        "    def forward(self, x):\n",
        "        x = self.conv_block(x)\n",
        "        return x"
      ],
      "metadata": {
        "id": "DYQ79D0ZjZNo"
      },
      "execution_count": 2,
      "outputs": []
    },
    {
      "cell_type": "code",
      "source": [
        "class VGG16(nn.Module):\n",
        "    def __init__(self, input_channel=3, num_classes=10):\n",
        "        super().__init__()\n",
        "        self.features = nn.Sequential(\n",
        "            # N x 3 x 224 x 224\n",
        "            VGGBlock(input_channel, 64, 2),\n",
        "            nn.MaxPool2d(2, stride=2),\n",
        "            # N x 64 x 112 x 112\n",
        "            VGGBlock(64, 128, 2),\n",
        "            nn.MaxPool2d(2, stride=2),\n",
        "            # N x 128 x 56 x 56\n",
        "            VGGBlock(128, 256, 3),\n",
        "            nn.MaxPool2d(2, stride=2),\n",
        "            # N x 256 x 28 x 28\n",
        "            VGGBlock(256, 512, 3),\n",
        "            nn.MaxPool2d(2, stride=2),\n",
        "            # N x 512 x 14 x 14\n",
        "            VGGBlock(512, 512, 3),\n",
        "            nn.MaxPool2d(2, stride=2),\n",
        "            # N x 512 x 7 x 7\n",
        "        )\n",
        "        self.classifier = nn.Sequential(\n",
        "            nn.Linear(512*7*7, 4096),\n",
        "            nn.ReLU(inplace=True),\n",
        "            nn.Dropout(),\n",
        "            nn.Linear(4096, 4096),\n",
        "            nn.ReLU(inplace=True),\n",
        "            nn.Dropout(),\n",
        "            nn.Linear(4096, num_classes),\n",
        "        )\n",
        "\n",
        "    def forward(self, x):\n",
        "        x = self.features(x)\n",
        "        x = x.view(-1 ,512*7*7)\n",
        "        x = self.classifier(x)\n",
        "        return x"
      ],
      "metadata": {
        "id": "qvmudtpml8Hs"
      },
      "execution_count": 3,
      "outputs": []
    },
    {
      "cell_type": "code",
      "source": [
        "x = torch.randn(1, 3, 224, 224)\n",
        "model = VGG16()\n",
        "model(x)"
      ],
      "metadata": {
        "colab": {
          "base_uri": "https://localhost:8080/"
        },
        "id": "hUjQYtQijbqk",
        "outputId": "6cd2eb0b-16b5-43b5-a15e-6654c2570c36"
      },
      "execution_count": 4,
      "outputs": [
        {
          "output_type": "execute_result",
          "data": {
            "text/plain": [
              "tensor([[ 0.0193, -0.0107, -0.0095, -0.0065,  0.0059,  0.0066, -0.0002, -0.0052,\n",
              "          0.0093, -0.0066]], grad_fn=<AddmmBackward0>)"
            ]
          },
          "metadata": {},
          "execution_count": 4
        }
      ]
    }
  ]
}