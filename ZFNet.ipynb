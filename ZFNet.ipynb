{
  "nbformat": 4,
  "nbformat_minor": 0,
  "metadata": {
    "colab": {
      "provenance": []
    },
    "kernelspec": {
      "name": "python3",
      "display_name": "Python 3"
    },
    "language_info": {
      "name": "python"
    }
  },
  "cells": [
    {
      "cell_type": "code",
      "execution_count": 1,
      "metadata": {
        "id": "vJX2D5MIgar3"
      },
      "outputs": [],
      "source": [
        "import torch\n",
        "import torch.nn as nn\n",
        "import torch.nn.functional as F"
      ]
    },
    {
      "cell_type": "code",
      "source": [
        "class ZFNet(nn.Module):\n",
        "    def __init__(self, input_channel=3, num_classes=10):\n",
        "        super().__init__()\n",
        "        self.conv1 = nn.Conv2d(input_channel, 96, 7, stride=2, padding=0)\n",
        "        self.bn1 = nn.BatchNorm2d(96)\n",
        "        self.conv2 = nn.Conv2d(96, 256, 3, stride=2, padding=0)\n",
        "        self.bn2 = nn.BatchNorm2d(256)\n",
        "        self.conv3 = nn.Conv2d(256, 384, 3, stride=1, padding=1)\n",
        "        self.bn3 = nn.BatchNorm2d(384)\n",
        "        self.conv4 = nn.Conv2d(384, 384, 3, stride=1, padding=1)\n",
        "        self.bn4 = nn.BatchNorm2d(384)\n",
        "        self.conv5 = nn.Conv2d(384, 256, 3, stride=1, padding=1)\n",
        "        self.bn5 = nn.BatchNorm2d(256)\n",
        "        self.fc1 = nn.Linear(256*5*5, 4096)\n",
        "        self.fc2 = nn.Linear(4096, 4096)\n",
        "        self.fc3 = nn.Linear(4096, num_classes)\n",
        "\n",
        "    def forward(self, x):\n",
        "        # N x 3 x 224 x 224\n",
        "        x = F.max_pool2d(F.relu(self.bn1(self.conv1(x))), 3, stride=2)\n",
        "        # N x 96 x 54 x 54\n",
        "        x = F.max_pool2d(F.relu(self.bn2(self.conv2(x))), 3, stride=2)\n",
        "        # N x 256 x 12 x 12\n",
        "        x = F.relu(self.bn3(self.conv3(x)))\n",
        "        # N x 384 x 12 x 12\n",
        "        x = F.relu(self.bn4(self.conv4(x)))\n",
        "        # N x 384 x 12 x 12\n",
        "        x = F.max_pool2d(F.relu(self.bn5(self.conv5(x))), 3, stride=2)\n",
        "        # N x 256 x 5 x 5\n",
        "        x = x.view(-1, 256*5*5)\n",
        "        x = F.relu(self.fc1(x))\n",
        "        x = F.relu(self.fc2(x))\n",
        "        x = self.fc3(x)\n",
        "        return x"
      ],
      "metadata": {
        "id": "DYQ79D0ZjZNo"
      },
      "execution_count": 2,
      "outputs": []
    },
    {
      "cell_type": "code",
      "source": [
        "x = torch.randn(1, 3, 224, 224)\n",
        "model = ZFNet()\n",
        "model(x)"
      ],
      "metadata": {
        "colab": {
          "base_uri": "https://localhost:8080/"
        },
        "id": "hUjQYtQijbqk",
        "outputId": "70502377-f13e-43e7-cbff-575d7a1eec9f"
      },
      "execution_count": 3,
      "outputs": [
        {
          "output_type": "execute_result",
          "data": {
            "text/plain": [
              "tensor([[-0.1462, -0.1591, -0.0085,  0.1022,  0.0988, -0.0987,  0.0224, -0.2334,\n",
              "          0.0781, -0.0382]], grad_fn=<AddmmBackward0>)"
            ]
          },
          "metadata": {},
          "execution_count": 3
        }
      ]
    }
  ]
}